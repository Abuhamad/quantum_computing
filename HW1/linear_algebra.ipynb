{
 "cells": [
  {
   "cell_type": "code",
   "execution_count": 1,
   "metadata": {},
   "outputs": [],
   "source": [
    "import numpy as np\n",
    "import numpy.linalg as la"
   ]
  },
  {
   "cell_type": "markdown",
   "metadata": {},
   "source": [
    "# Problem 1"
   ]
  },
  {
   "cell_type": "code",
   "execution_count": 2,
   "metadata": {},
   "outputs": [],
   "source": [
    "# pauli operators\n",
    "sigma_x = np.array([[0, 1],[1, 0]])\n",
    "sigma_y = np.array([[0, -1j],[1j, 0]])\n",
    "sigma_z = np.array([[1, 0],[0, -1]])\n",
    "\n",
    "#for these pauli matrices eigenvectors are eginbases\n",
    "def get_bases(matrix):\n",
    "    eigenvalues, eigenvectors = la.eig(matrix)\n",
    "    return eigenvectors\n",
    "\n",
    "def is_MUB (eigenbasis1, eigenbasis2):\n",
    "    return np.around(np.square(la.norm(np.matmul(eigenbasis1, eigenbasis2))), decimals=1) == 1.0/len(eigenbasis1)\n",
    "\n",
    "def check_bases_two_matrices (matrix1, matrix2):\n",
    "    bases1 = get_bases(matrix1)\n",
    "    bases2 = get_bases(matrix2)\n",
    "    for basis1 in bases1:\n",
    "        for basis2 in bases2:\n",
    "            print( \"Are the basis {} and basis {} mutually unbiased :> {}\\n\".format(basis1, basis2, is_MUB(basis1, basis2)))\n"
   ]
  },
  {
   "cell_type": "code",
   "execution_count": 3,
   "metadata": {},
   "outputs": [
    {
     "name": "stdout",
     "output_type": "stream",
     "text": [
      "Are the basis [ 0.70710678 -0.70710678] and basis [-0.00000000-0.70710678j  0.70710678+0.j        ] mutually unbiased :> True\n",
      "\n",
      "Are the basis [ 0.70710678 -0.70710678] and basis [ 0.70710678+0.j          0.00000000-0.70710678j] mutually unbiased :> True\n",
      "\n",
      "Are the basis [ 0.70710678  0.70710678] and basis [-0.00000000-0.70710678j  0.70710678+0.j        ] mutually unbiased :> True\n",
      "\n",
      "Are the basis [ 0.70710678  0.70710678] and basis [ 0.70710678+0.j          0.00000000-0.70710678j] mutually unbiased :> True\n",
      "\n",
      "Are the basis [ 0.70710678 -0.70710678] and basis [ 1.  0.] mutually unbiased :> True\n",
      "\n",
      "Are the basis [ 0.70710678 -0.70710678] and basis [ 0.  1.] mutually unbiased :> True\n",
      "\n",
      "Are the basis [ 0.70710678  0.70710678] and basis [ 1.  0.] mutually unbiased :> True\n",
      "\n",
      "Are the basis [ 0.70710678  0.70710678] and basis [ 0.  1.] mutually unbiased :> True\n",
      "\n",
      "Are the basis [-0.00000000-0.70710678j  0.70710678+0.j        ] and basis [ 1.  0.] mutually unbiased :> True\n",
      "\n",
      "Are the basis [-0.00000000-0.70710678j  0.70710678+0.j        ] and basis [ 0.  1.] mutually unbiased :> True\n",
      "\n",
      "Are the basis [ 0.70710678+0.j          0.00000000-0.70710678j] and basis [ 1.  0.] mutually unbiased :> True\n",
      "\n",
      "Are the basis [ 0.70710678+0.j          0.00000000-0.70710678j] and basis [ 0.  1.] mutually unbiased :> True\n",
      "\n"
     ]
    }
   ],
   "source": [
    "check_bases_two_matrices(sigma_x, sigma_y)\n",
    "check_bases_two_matrices(sigma_x, sigma_z)\n",
    "check_bases_two_matrices(sigma_y, sigma_z)"
   ]
  },
  {
   "cell_type": "markdown",
   "metadata": {},
   "source": [
    "# Problem 3"
   ]
  },
  {
   "cell_type": "code",
   "execution_count": 28,
   "metadata": {},
   "outputs": [],
   "source": [
    "def define_matrices_X_Z(d):\n",
    "    w = np.exp((2*180)/d) # primitive d-th root of unity\n",
    "    X = np.zeros((d, d))\n",
    "    Z = np.zeros((d, d))\n",
    "\n",
    "    #construct X ∈ C^(d×d) = ∑|k+ 1〉〈k| from 0 to d-1\n",
    "    for k in range (0, d):\n",
    "        x1 = np.zeros(d)\n",
    "        x2 = np.zeros(d)\n",
    "        x1[(k+1)%d]= 1\n",
    "        x2[k] = 1\n",
    "        X = np.add(X, np.outer(x1.T, x2))\n",
    "\n",
    "    #construct Z ∈ C^(d×d) = ∑ω^l|l〉〈l|\n",
    "    for l in range (0, d):\n",
    "        z1 = np.zeros(d)\n",
    "        z2 = np.zeros(d)\n",
    "        z1[l]= w**l\n",
    "        z2[l] = 1\n",
    "        Z = np.add(Z, np.outer(z1.T, z2))\n",
    "\n",
    "    return X, Z\n",
    "\n",
    "    #construct M^(a,b) ∈ C^(d×d) = X^a Z^b for a,b ∈ {0,...,d−1}\n",
    "def define_M (X, Z, a, b):\n",
    "    return np.inner(la.matrix_power(X,a),la.matrix_power(Z,b))\n",
    "\n",
    "    #show that M^(a,b) from orthonormal basis with respect to the trace inner product\n",
    "def check_basis(M):\n",
    "    #get the bases:\n",
    "    eigenvalues, eigenvectors = la.eig(M)\n",
    "\n",
    "    '''\n",
    "    #print all basis\n",
    "    for idx, eigenvector in enumerate(eigenvectors):\n",
    "        print('basis {}: {} \\n'.format(idx, eigenvector))\n",
    "    '''\n",
    "\n",
    "    #check every pair (orthonormal if <v_i,v_j> = 0 when i!=j) and <v_i,v_i> = 1\n",
    "    check = 0\n",
    "    for idx in range(len(eigenvectors)-1):\n",
    "        for jdx in range(idx, len(eigenvectors)):\n",
    "\n",
    "            if idx == jdx:\n",
    "                continue\n",
    "\n",
    "                if np.around(np.inner(eigenvectors[idx].T, eigenvectors[jdx]), decimals = 1) == 1:\n",
    "                    check +=1\n",
    "                else:\n",
    "                    print ('basis {} and {} are not orthonormal'.format(eigenvectors[idx], eigenvectors[jdx]))\n",
    "\n",
    "            else:\n",
    "\n",
    "                if np.around(np.inner(eigenvectors[idx].T, eigenvectors[jdx]), decimals = 1) == 0:\n",
    "                    check +=1\n",
    "\n",
    "                else:\n",
    "                    print ('basis {} and {} are not orthonormal'.format(eigenvectors[idx], eigenvectors[jdx]))\n",
    "\n",
    "    #if checks = len(eigenvectors) * (len(eigenvectors) - 1) / 2 then all pairs are checked\n",
    "    if check == (len(eigenvectors) * (len(eigenvectors) - 1) / 2):\n",
    "        print('All {} vector cobinations are orthonormal'.format(check))\n",
    "    else:\n",
    "        print ('Not all basis are orthonormal')\n"
   ]
  },
  {
   "cell_type": "code",
   "execution_count": 29,
   "metadata": {},
   "outputs": [
    {
     "name": "stdout",
     "output_type": "stream",
     "text": [
      "All 3 vector cobinations are orthonormal\n"
     ]
    }
   ],
   "source": [
    "d = 3\n",
    "a = 1\n",
    "b = 1\n",
    "\n",
    "#get X and Z\n",
    "X, Z = define_matrices_X_Z(d)\n",
    "#get M\n",
    "M = define_M (X, Z, a, b)\n",
    "#check the bases of M\n",
    "check_basis(M)"
   ]
  }
 ],
 "metadata": {
  "kernelspec": {
   "display_name": "Python 2",
   "language": "python",
   "name": "python2"
  },
  "language_info": {
   "codemirror_mode": {
    "name": "ipython",
    "version": 2
   },
   "file_extension": ".py",
   "mimetype": "text/x-python",
   "name": "python",
   "nbconvert_exporter": "python",
   "pygments_lexer": "ipython2",
   "version": "2.7.12"
  }
 },
 "nbformat": 4,
 "nbformat_minor": 2
}
