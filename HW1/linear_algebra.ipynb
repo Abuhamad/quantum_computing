{
 "cells": [
  {
   "cell_type": "code",
   "execution_count": 1,
   "metadata": {},
   "outputs": [],
   "source": [
    "import numpy as np\n",
    "import numpy.linalg as la"
   ]
  },
  {
   "cell_type": "code",
   "execution_count": 2,
   "metadata": {},
   "outputs": [],
   "source": [
    "# pauli operators\n",
    "sigma_x = np.array([[0, 1],[1, 0]])\n",
    "sigma_y = np.array([[0, -1j],[1j, 0]])\n",
    "sigma_z = np.array([[1, 0],[0, -1]])\n",
    "\n",
    "#for these pauli matrices eigenvectors are eginbases\n",
    "def get_bases(matrix):\n",
    "    eigenvalues, eigenvectors = la.eig(matrix)\n",
    "    return eigenvectors\n",
    "\n",
    "def is_MUB (eigenbasis1, eigenbasis2):\n",
    "    return np.around(np.square(la.norm(np.matmul(eigenbasis1, eigenbasis2))), decimals=1) == 1.0/len(eigenbasis1)\n",
    "\n",
    "def check_bases_two_matrices (matrix1, matrix2):\n",
    "    bases1 = get_bases(matrix1)\n",
    "    bases2 = get_bases(matrix2)\n",
    "    for basis1 in bases1:\n",
    "        for basis2 in bases2:\n",
    "            print( \"Are the basis {} and basis {} mutually unbiased :> {}\\n\".format(basis1, basis2, is_MUB(basis1, basis2)))\n"
   ]
  },
  {
   "cell_type": "code",
   "execution_count": 3,
   "metadata": {},
   "outputs": [
    {
     "name": "stdout",
     "output_type": "stream",
     "text": [
      "Are the basis [ 0.70710678 -0.70710678] and basis [-0.00000000-0.70710678j  0.70710678+0.j        ] mutually unbiased :> True\n",
      "\n",
      "Are the basis [ 0.70710678 -0.70710678] and basis [ 0.70710678+0.j          0.00000000-0.70710678j] mutually unbiased :> True\n",
      "\n",
      "Are the basis [ 0.70710678  0.70710678] and basis [-0.00000000-0.70710678j  0.70710678+0.j        ] mutually unbiased :> True\n",
      "\n",
      "Are the basis [ 0.70710678  0.70710678] and basis [ 0.70710678+0.j          0.00000000-0.70710678j] mutually unbiased :> True\n",
      "\n",
      "Are the basis [ 0.70710678 -0.70710678] and basis [ 1.  0.] mutually unbiased :> True\n",
      "\n",
      "Are the basis [ 0.70710678 -0.70710678] and basis [ 0.  1.] mutually unbiased :> True\n",
      "\n",
      "Are the basis [ 0.70710678  0.70710678] and basis [ 1.  0.] mutually unbiased :> True\n",
      "\n",
      "Are the basis [ 0.70710678  0.70710678] and basis [ 0.  1.] mutually unbiased :> True\n",
      "\n",
      "Are the basis [-0.00000000-0.70710678j  0.70710678+0.j        ] and basis [ 1.  0.] mutually unbiased :> True\n",
      "\n",
      "Are the basis [-0.00000000-0.70710678j  0.70710678+0.j        ] and basis [ 0.  1.] mutually unbiased :> True\n",
      "\n",
      "Are the basis [ 0.70710678+0.j          0.00000000-0.70710678j] and basis [ 1.  0.] mutually unbiased :> True\n",
      "\n",
      "Are the basis [ 0.70710678+0.j          0.00000000-0.70710678j] and basis [ 0.  1.] mutually unbiased :> True\n",
      "\n"
     ]
    }
   ],
   "source": [
    "check_bases_two_matrices(sigma_x, sigma_y)\n",
    "check_bases_two_matrices(sigma_x, sigma_z)\n",
    "check_bases_two_matrices(sigma_y, sigma_z)"
   ]
  },
  {
   "cell_type": "code",
   "execution_count": 89,
   "metadata": {},
   "outputs": [
    {
     "data": {
      "text/plain": [
       "array([[ 0.,  1.],\n",
       "       [ 1.,  0.]])"
      ]
     },
     "execution_count": 89,
     "metadata": {},
     "output_type": "execute_result"
    }
   ],
   "source": [
    "d = 2\n",
    "\n",
    "X = np.zeros((d, d))\n",
    "for k in range (0, d):\n",
    "    x1 = np.zeros(d)\n",
    "    x2 = np.zeros(d)\n",
    "    x1[(k+1)%d]= 1\n",
    "    x2[k] = 1\n",
    "    X = np.add(X, np.outer(x1.T, x2))\n",
    "X\n",
    "\n"
   ]
  },
  {
   "cell_type": "code",
   "execution_count": 90,
   "metadata": {},
   "outputs": [
    {
     "name": "stderr",
     "output_type": "stream",
     "text": [
      "/usr/local/lib/python2.7/dist-packages/ipykernel_launcher.py:7: ComplexWarning: Casting complex values to real discards the imaginary part\n",
      "  import sys\n"
     ]
    },
    {
     "data": {
      "text/plain": [
       "array([[ 1.        ,  0.        ],\n",
       "       [ 0.        , -0.59846007]])"
      ]
     },
     "execution_count": 90,
     "metadata": {},
     "output_type": "execute_result"
    }
   ],
   "source": [
    "\n",
    "w = np.exp((2*180j)/d)\n",
    "Z = np.zeros((d, d))\n",
    "for l in range (0, d):\n",
    "    z1 = np.zeros(d)\n",
    "    z2 = np.zeros(d)\n",
    "    z1[l]= w**l\n",
    "    z2[l] = 1\n",
    "    Z = np.add(Z, np.outer(z1.T, z2))\n",
    "Z"
   ]
  },
  {
   "cell_type": "code",
   "execution_count": 106,
   "metadata": {},
   "outputs": [
    {
     "data": {
      "text/plain": [
       "0.0"
      ]
     },
     "execution_count": 106,
     "metadata": {},
     "output_type": "execute_result"
    }
   ],
   "source": [
    "np.trace(np.inner(X, Z))"
   ]
  },
  {
   "cell_type": "code",
   "execution_count": null,
   "metadata": {},
   "outputs": [],
   "source": []
  },
  {
   "cell_type": "code",
   "execution_count": 96,
   "metadata": {},
   "outputs": [
    {
     "data": {
      "text/plain": [
       "array([[ 0.70710678,  0.70710678,  0.        ,  0.        ],\n",
       "       [ 0.        ,  0.        , -0.70710678,  0.70710678],\n",
       "       [ 0.70710678, -0.70710678,  0.        ,  0.        ],\n",
       "       [ 0.        ,  0.        ,  0.70710678,  0.70710678]])"
      ]
     },
     "execution_count": 96,
     "metadata": {},
     "output_type": "execute_result"
    }
   ],
   "source": [
    "eigenvalues, eigenvectors = la.eig(np.kron(X, Z))\n",
    "eigenvectors"
   ]
  },
  {
   "cell_type": "code",
   "execution_count": null,
   "metadata": {},
   "outputs": [],
   "source": []
  },
  {
   "cell_type": "code",
   "execution_count": 100,
   "metadata": {},
   "outputs": [
    {
     "data": {
      "text/plain": [
       "0.0"
      ]
     },
     "execution_count": 100,
     "metadata": {},
     "output_type": "execute_result"
    }
   ],
   "source": [
    "np.inner(eigenvectors[3],eigenvectors[1])"
   ]
  },
  {
   "cell_type": "code",
   "execution_count": 101,
   "metadata": {},
   "outputs": [],
   "source": [
    "def define_M (X, Z, a, b):\n",
    "\treturn np.kron(la.matrix_power(X,a),la.matrix_power(Z,b))"
   ]
  },
  {
   "cell_type": "code",
   "execution_count": 102,
   "metadata": {},
   "outputs": [
    {
     "data": {
      "text/plain": [
       "array([[ 0.        ,  0.        ,  1.        ,  0.        ],\n",
       "       [ 0.        , -0.        ,  0.        , -0.59846007],\n",
       "       [ 1.        ,  0.        ,  0.        ,  0.        ],\n",
       "       [ 0.        , -0.59846007,  0.        , -0.        ]])"
      ]
     },
     "execution_count": 102,
     "metadata": {},
     "output_type": "execute_result"
    }
   ],
   "source": [
    "M = define_M(X, Z, 1,1)\n",
    "M"
   ]
  },
  {
   "cell_type": "code",
   "execution_count": 108,
   "metadata": {},
   "outputs": [
    {
     "data": {
      "text/plain": [
       "array([[ 0.70710678,  0.70710678,  0.        ,  0.        ],\n",
       "       [ 0.        ,  0.        , -0.70710678,  0.70710678],\n",
       "       [ 0.70710678, -0.70710678,  0.        ,  0.        ],\n",
       "       [ 0.        ,  0.        ,  0.70710678,  0.70710678]])"
      ]
     },
     "execution_count": 108,
     "metadata": {},
     "output_type": "execute_result"
    }
   ],
   "source": [
    "eigenvalues, eigenvectors = la.eig(M)\n",
    "eigenvectors"
   ]
  },
  {
   "cell_type": "code",
   "execution_count": 114,
   "metadata": {},
   "outputs": [
    {
     "data": {
      "text/plain": [
       "0.0"
      ]
     },
     "execution_count": 114,
     "metadata": {},
     "output_type": "execute_result"
    }
   ],
   "source": [
    "np.inner(eigenvectors[3].T, eigenvectors[0])"
   ]
  },
  {
   "cell_type": "code",
   "execution_count": 7,
   "metadata": {},
   "outputs": [],
   "source": [
    "# -*- coding: utf-8 -*-\n",
    "'''\n",
    "\n",
    "Author: Mohammed Abuhamad\n",
    "UCFID: 5013840\n",
    "Description : \n",
    "\t\t\tAssignment 1: Problem 3 (Unitary error basis).\n",
    "\n",
    "'''\n",
    "\n",
    "import numpy as np\n",
    "import numpy.linalg as la\n",
    "np.set_printoptions(precision=4)\n",
    "\n",
    "\n",
    "#define the matrices X and Z ∈ C^(d×d):\n",
    "def define_matrices_X_Z(d):\n",
    "\tw = np.exp((2*180j)/d) # primitive d-th root of unity\n",
    "\tX = np.zeros((d, d), dtype=complex)\n",
    "\tZ = np.zeros((d, d), dtype=complex)\n",
    "\t\n",
    "\t#construct X ∈ C^(d×d) = ∑|k+ 1〉〈k| from 0 to d-1\n",
    "\tfor k in range (0, d):\n",
    "\t\tx1 = np.zeros(d)\n",
    "\t\tx2 = np.zeros(d)\n",
    "\t\tx1[(k+1)%d]= 1\n",
    "\t\tx2[k] = 1\n",
    "\t\tX = np.add(X, np.outer(x1.T, x2))\n",
    "\n",
    "\t#construct Z ∈ C^(d×d) = ∑ω^l|l〉〈l|\n",
    "\tfor l in range (0, d):\n",
    "\t\tz1 = np.zeros(d)\n",
    "\t\tz2 = np.zeros(d)\n",
    "\t\tz1[l]= w**l\n",
    "\t\tz2[l] = 1\n",
    "\t\tZ = np.add(Z, np.outer(z1.T, z2))\n",
    "\n",
    "\treturn X, Z\n",
    "\n",
    "#construct M^(a,b) ∈ C^(d^2×d^2) = X^a Z^b for a,b ∈ {0,...,d−1}\n",
    "def define_M (X, Z, a, b):\n",
    "\treturn np.kron(la.matrix_power(X,a),la.matrix_power(Z,b))\n",
    "\n",
    "#show that M^(a,b) from orthonormal basis with respect to the trace inner product\n",
    "def check_basis(M):\n",
    "\t#get the bases:\n",
    "\teigenvalues, eigenvectors = la.eig(M)\n",
    "\n",
    "\n",
    "\t#check every pair (orthonormal if <v_i,v_j> = 0 when i!=j) and <v_i,v_i> = 1\n",
    "\tchecks = 0\n",
    "\tfor idx in range(len(eigenvectors)):\n",
    "\t\tfor jdx in range(len(eigenvectors)):\n",
    "\t\t\tif idx == jdx:\n",
    "\t\t\t\tif np.around(np.inner(eigenvectors[idx].T, eigenvectors[jdx]), decimals = 1) == 1:\n",
    "\t\t\t\t\tchecks +=1\n",
    "\t\t\t\telse:\n",
    "\t\t\t\t\tprint ('basis {} and {} are not orthonormal'.format(eigenvectors[idx], eigenvectors[idx]))\n",
    "\n",
    "\t\t\telse:\n",
    "\t\t\t\tif np.around(np.inner(eigenvectors[idx].T, eigenvectors[jdx]), decimals = 1) == 0:\n",
    "\t\t\t\t\tchecks +=1\n",
    "\t\t\t\telse:\n",
    "\t\t\t\t\tprint ('basis {} and {} are not orthonormal'.format(eigenvectors[idx], eigenvectors[idx]))\n",
    "\t#if checks = len(eigenvectors)\n",
    "\tprint('All {} vector cobinations are orthonormal'.format(checks))\n",
    "\n",
    "\n",
    "\n",
    "\n"
   ]
  },
  {
   "cell_type": "code",
   "execution_count": 8,
   "metadata": {
    "scrolled": false
   },
   "outputs": [
    {
     "name": "stdout",
     "output_type": "stream",
     "text": [
      "basis [-0.2887-0.5j -0.2887+0.5j  0.5774+0.j   0.0000+0.j   0.0000+0.j\n",
      "  0.0000+0.j   0.0000-0.j  -0.0000+0.j   0.0000+0.j ] and [-0.2887-0.5j -0.2887+0.5j  0.5774+0.j   0.0000+0.j   0.0000+0.j\n",
      "  0.0000+0.j   0.0000-0.j  -0.0000+0.j   0.0000+0.j ] are not orthonormal\n",
      "basis [-0.2887-0.5j -0.2887+0.5j  0.5774+0.j   0.0000+0.j   0.0000+0.j\n",
      "  0.0000+0.j   0.0000-0.j  -0.0000+0.j   0.0000+0.j ] and [-0.2887-0.5j -0.2887+0.5j  0.5774+0.j   0.0000+0.j   0.0000+0.j\n",
      "  0.0000+0.j   0.0000-0.j  -0.0000+0.j   0.0000+0.j ] are not orthonormal\n",
      "basis [  0.0000e+00 +0.0000e+00j   0.0000e+00 +0.0000e+00j\n",
      "   0.0000e+00 +0.0000e+00j  -2.8868e-01 -5.0000e-01j\n",
      "   5.7735e-01 +0.0000e+00j   5.7735e-01 +0.0000e+00j\n",
      "  -1.3468e-17 -2.3327e-17j   2.6935e-17 -6.1630e-33j\n",
      "   2.6935e-17 +3.5437e-32j] and [  0.0000e+00 +0.0000e+00j   0.0000e+00 +0.0000e+00j\n",
      "   0.0000e+00 +0.0000e+00j  -2.8868e-01 -5.0000e-01j\n",
      "   5.7735e-01 +0.0000e+00j   5.7735e-01 +0.0000e+00j\n",
      "  -1.3468e-17 -2.3327e-17j   2.6935e-17 -6.1630e-33j\n",
      "   2.6935e-17 +3.5437e-32j] are not orthonormal\n",
      "basis [  0.0000e+00 +0.0000e+00j   0.0000e+00 +0.0000e+00j\n",
      "   0.0000e+00 +0.0000e+00j  -2.8868e-01 -5.0000e-01j\n",
      "   5.7735e-01 +0.0000e+00j   5.7735e-01 +0.0000e+00j\n",
      "  -1.3468e-17 -2.3327e-17j   2.6935e-17 -6.1630e-33j\n",
      "   2.6935e-17 +3.5437e-32j] and [  0.0000e+00 +0.0000e+00j   0.0000e+00 +0.0000e+00j\n",
      "   0.0000e+00 +0.0000e+00j  -2.8868e-01 -5.0000e-01j\n",
      "   5.7735e-01 +0.0000e+00j   5.7735e-01 +0.0000e+00j\n",
      "  -1.3468e-17 -2.3327e-17j   2.6935e-17 -6.1630e-33j\n",
      "   2.6935e-17 +3.5437e-32j] are not orthonormal\n",
      "basis [  0.0000e+00 +0.0000e+00j   0.0000e+00 +0.0000e+00j\n",
      "   0.0000e+00 +0.0000e+00j  -2.8868e-01 -5.0000e-01j\n",
      "   5.7735e-01 +0.0000e+00j   5.7735e-01 +0.0000e+00j\n",
      "  -1.3468e-17 -2.3327e-17j   2.6935e-17 -6.1630e-33j\n",
      "   2.6935e-17 +3.5437e-32j] and [  0.0000e+00 +0.0000e+00j   0.0000e+00 +0.0000e+00j\n",
      "   0.0000e+00 +0.0000e+00j  -2.8868e-01 -5.0000e-01j\n",
      "   5.7735e-01 +0.0000e+00j   5.7735e-01 +0.0000e+00j\n",
      "  -1.3468e-17 -2.3327e-17j   2.6935e-17 -6.1630e-33j\n",
      "   2.6935e-17 +3.5437e-32j] are not orthonormal\n",
      "basis [ 0.0000+0.j   0.0000+0.j   0.0000+0.j   0.0000+0.j   0.0000+0.j\n",
      "  0.0000+0.j  -0.2887+0.5j -0.2887+0.5j  0.5774+0.j ] and [ 0.0000+0.j   0.0000+0.j   0.0000+0.j   0.0000+0.j   0.0000+0.j\n",
      "  0.0000+0.j  -0.2887+0.5j -0.2887+0.5j  0.5774+0.j ] are not orthonormal\n",
      "basis [ 0.0000+0.j   0.0000+0.j   0.0000+0.j   0.0000+0.j   0.0000+0.j\n",
      "  0.0000+0.j  -0.2887+0.5j -0.2887+0.5j  0.5774+0.j ] and [ 0.0000+0.j   0.0000+0.j   0.0000+0.j   0.0000+0.j   0.0000+0.j\n",
      "  0.0000+0.j  -0.2887+0.5j -0.2887+0.5j  0.5774+0.j ] are not orthonormal\n",
      "basis [ 0.0000+0.j   0.0000+0.j   0.0000+0.j   0.0000+0.j   0.0000+0.j\n",
      "  0.0000+0.j  -0.2887+0.5j -0.2887+0.5j  0.5774+0.j ] and [ 0.0000+0.j   0.0000+0.j   0.0000+0.j   0.0000+0.j   0.0000+0.j\n",
      "  0.0000+0.j  -0.2887+0.5j -0.2887+0.5j  0.5774+0.j ] are not orthonormal\n",
      "basis [-0.2887 +5.0000e-01j -0.2887 -5.0000e-01j  0.5774 +4.3141e-32j\n",
      "  0.0000 +0.0000e+00j  0.0000 +0.0000e+00j  0.0000 +0.0000e+00j\n",
      "  0.0000 -0.0000e+00j -0.0000 +0.0000e+00j  0.0000 +0.0000e+00j] and [-0.2887 +5.0000e-01j -0.2887 -5.0000e-01j  0.5774 +4.3141e-32j\n",
      "  0.0000 +0.0000e+00j  0.0000 +0.0000e+00j  0.0000 +0.0000e+00j\n",
      "  0.0000 -0.0000e+00j -0.0000 +0.0000e+00j  0.0000 +0.0000e+00j] are not orthonormal\n",
      "basis [-0.2887 +5.0000e-01j -0.2887 -5.0000e-01j  0.5774 +4.3141e-32j\n",
      "  0.0000 +0.0000e+00j  0.0000 +0.0000e+00j  0.0000 +0.0000e+00j\n",
      "  0.0000 -0.0000e+00j -0.0000 +0.0000e+00j  0.0000 +0.0000e+00j] and [-0.2887 +5.0000e-01j -0.2887 -5.0000e-01j  0.5774 +4.3141e-32j\n",
      "  0.0000 +0.0000e+00j  0.0000 +0.0000e+00j  0.0000 +0.0000e+00j\n",
      "  0.0000 -0.0000e+00j -0.0000 +0.0000e+00j  0.0000 +0.0000e+00j] are not orthonormal\n",
      "basis [  0.0000e+00 +0.0000e+00j   0.0000e+00 +0.0000e+00j\n",
      "   0.0000e+00 +0.0000e+00j  -2.8868e-01 +5.0000e-01j\n",
      "   5.7735e-01 -1.6653e-16j  -2.8868e-01 +5.0000e-01j\n",
      "  -3.3658e-17 +5.8297e-17j  -3.3658e-17 +5.8297e-17j\n",
      "   6.7316e-17 +3.0815e-32j] and [  0.0000e+00 +0.0000e+00j   0.0000e+00 +0.0000e+00j\n",
      "   0.0000e+00 +0.0000e+00j  -2.8868e-01 +5.0000e-01j\n",
      "   5.7735e-01 -1.6653e-16j  -2.8868e-01 +5.0000e-01j\n",
      "  -3.3658e-17 +5.8297e-17j  -3.3658e-17 +5.8297e-17j\n",
      "   6.7316e-17 +3.0815e-32j] are not orthonormal\n",
      "basis [  0.0000e+00 +0.0000e+00j   0.0000e+00 +0.0000e+00j\n",
      "   0.0000e+00 +0.0000e+00j  -2.8868e-01 +5.0000e-01j\n",
      "   5.7735e-01 -1.6653e-16j  -2.8868e-01 +5.0000e-01j\n",
      "  -3.3658e-17 +5.8297e-17j  -3.3658e-17 +5.8297e-17j\n",
      "   6.7316e-17 +3.0815e-32j] and [  0.0000e+00 +0.0000e+00j   0.0000e+00 +0.0000e+00j\n",
      "   0.0000e+00 +0.0000e+00j  -2.8868e-01 +5.0000e-01j\n",
      "   5.7735e-01 -1.6653e-16j  -2.8868e-01 +5.0000e-01j\n",
      "  -3.3658e-17 +5.8297e-17j  -3.3658e-17 +5.8297e-17j\n",
      "   6.7316e-17 +3.0815e-32j] are not orthonormal\n",
      "basis [  0.0000e+00 +0.0000e+00j   0.0000e+00 +0.0000e+00j\n",
      "   0.0000e+00 +0.0000e+00j  -2.8868e-01 +5.0000e-01j\n",
      "   5.7735e-01 -1.6653e-16j  -2.8868e-01 +5.0000e-01j\n",
      "  -3.3658e-17 +5.8297e-17j  -3.3658e-17 +5.8297e-17j\n",
      "   6.7316e-17 +3.0815e-32j] and [  0.0000e+00 +0.0000e+00j   0.0000e+00 +0.0000e+00j\n",
      "   0.0000e+00 +0.0000e+00j  -2.8868e-01 +5.0000e-01j\n",
      "   5.7735e-01 -1.6653e-16j  -2.8868e-01 +5.0000e-01j\n",
      "  -3.3658e-17 +5.8297e-17j  -3.3658e-17 +5.8297e-17j\n",
      "   6.7316e-17 +3.0815e-32j] are not orthonormal\n",
      "basis [ 0.0000 +0.0000e+00j  0.0000 +0.0000e+00j  0.0000 +0.0000e+00j\n",
      "  0.0000 +0.0000e+00j  0.0000 +0.0000e+00j  0.0000 +0.0000e+00j\n",
      "  0.5774 +0.0000e+00j -0.2887 -5.0000e-01j  0.5774 +1.5407e-33j] and [ 0.0000 +0.0000e+00j  0.0000 +0.0000e+00j  0.0000 +0.0000e+00j\n",
      "  0.0000 +0.0000e+00j  0.0000 +0.0000e+00j  0.0000 +0.0000e+00j\n",
      "  0.5774 +0.0000e+00j -0.2887 -5.0000e-01j  0.5774 +1.5407e-33j] are not orthonormal\n",
      "basis [ 0.0000 +0.0000e+00j  0.0000 +0.0000e+00j  0.0000 +0.0000e+00j\n",
      "  0.0000 +0.0000e+00j  0.0000 +0.0000e+00j  0.0000 +0.0000e+00j\n",
      "  0.5774 +0.0000e+00j -0.2887 -5.0000e-01j  0.5774 +1.5407e-33j] and [ 0.0000 +0.0000e+00j  0.0000 +0.0000e+00j  0.0000 +0.0000e+00j\n",
      "  0.0000 +0.0000e+00j  0.0000 +0.0000e+00j  0.0000 +0.0000e+00j\n",
      "  0.5774 +0.0000e+00j -0.2887 -5.0000e-01j  0.5774 +1.5407e-33j] are not orthonormal\n",
      "basis [ 0.0000 +0.0000e+00j  0.0000 +0.0000e+00j  0.0000 +0.0000e+00j\n",
      "  0.0000 +0.0000e+00j  0.0000 +0.0000e+00j  0.0000 +0.0000e+00j\n",
      "  0.5774 +0.0000e+00j -0.2887 -5.0000e-01j  0.5774 +1.5407e-33j] and [ 0.0000 +0.0000e+00j  0.0000 +0.0000e+00j  0.0000 +0.0000e+00j\n",
      "  0.0000 +0.0000e+00j  0.0000 +0.0000e+00j  0.0000 +0.0000e+00j\n",
      "  0.5774 +0.0000e+00j -0.2887 -5.0000e-01j  0.5774 +1.5407e-33j] are not orthonormal\n",
      "basis [  0.0000e+00 +0.0000e+00j   0.0000e+00 +0.0000e+00j\n",
      "   0.0000e+00 +0.0000e+00j   5.7735e-01 +0.0000e+00j\n",
      "   5.7735e-01 +5.5511e-17j  -2.8868e-01 -5.0000e-01j\n",
      "   4.0036e-17 +6.1630e-33j  -2.0018e-17 -3.4672e-17j\n",
      "   4.0036e-17 +1.8489e-32j] and [  0.0000e+00 +0.0000e+00j   0.0000e+00 +0.0000e+00j\n",
      "   0.0000e+00 +0.0000e+00j   5.7735e-01 +0.0000e+00j\n",
      "   5.7735e-01 +5.5511e-17j  -2.8868e-01 -5.0000e-01j\n",
      "   4.0036e-17 +6.1630e-33j  -2.0018e-17 -3.4672e-17j\n",
      "   4.0036e-17 +1.8489e-32j] are not orthonormal\n",
      "basis [  0.0000e+00 +0.0000e+00j   0.0000e+00 +0.0000e+00j\n",
      "   0.0000e+00 +0.0000e+00j   5.7735e-01 +0.0000e+00j\n",
      "   5.7735e-01 +5.5511e-17j  -2.8868e-01 -5.0000e-01j\n",
      "   4.0036e-17 +6.1630e-33j  -2.0018e-17 -3.4672e-17j\n",
      "   4.0036e-17 +1.8489e-32j] and [  0.0000e+00 +0.0000e+00j   0.0000e+00 +0.0000e+00j\n",
      "   0.0000e+00 +0.0000e+00j   5.7735e-01 +0.0000e+00j\n",
      "   5.7735e-01 +5.5511e-17j  -2.8868e-01 -5.0000e-01j\n",
      "   4.0036e-17 +6.1630e-33j  -2.0018e-17 -3.4672e-17j\n",
      "   4.0036e-17 +1.8489e-32j] are not orthonormal\n",
      "basis [  0.0000e+00 +0.0000e+00j   0.0000e+00 +0.0000e+00j\n",
      "   0.0000e+00 +0.0000e+00j   5.7735e-01 +0.0000e+00j\n",
      "   5.7735e-01 +5.5511e-17j  -2.8868e-01 -5.0000e-01j\n",
      "   4.0036e-17 +6.1630e-33j  -2.0018e-17 -3.4672e-17j\n",
      "   4.0036e-17 +1.8489e-32j] and [  0.0000e+00 +0.0000e+00j   0.0000e+00 +0.0000e+00j\n",
      "   0.0000e+00 +0.0000e+00j   5.7735e-01 +0.0000e+00j\n",
      "   5.7735e-01 +5.5511e-17j  -2.8868e-01 -5.0000e-01j\n",
      "   4.0036e-17 +6.1630e-33j  -2.0018e-17 -3.4672e-17j\n",
      "   4.0036e-17 +1.8489e-32j] are not orthonormal\n",
      "basis [ 0.0000 +0.0000e+00j  0.0000 +0.0000e+00j  0.0000 +0.0000e+00j\n",
      "  0.0000 +0.0000e+00j  0.0000 +0.0000e+00j  0.0000 +0.0000e+00j\n",
      " -0.2887 -5.0000e-01j  0.5774 +0.0000e+00j  0.5774 +1.6948e-32j] and [ 0.0000 +0.0000e+00j  0.0000 +0.0000e+00j  0.0000 +0.0000e+00j\n",
      "  0.0000 +0.0000e+00j  0.0000 +0.0000e+00j  0.0000 +0.0000e+00j\n",
      " -0.2887 -5.0000e-01j  0.5774 +0.0000e+00j  0.5774 +1.6948e-32j] are not orthonormal\n",
      "basis [ 0.0000 +0.0000e+00j  0.0000 +0.0000e+00j  0.0000 +0.0000e+00j\n",
      "  0.0000 +0.0000e+00j  0.0000 +0.0000e+00j  0.0000 +0.0000e+00j\n",
      " -0.2887 -5.0000e-01j  0.5774 +0.0000e+00j  0.5774 +1.6948e-32j] and [ 0.0000 +0.0000e+00j  0.0000 +0.0000e+00j  0.0000 +0.0000e+00j\n",
      "  0.0000 +0.0000e+00j  0.0000 +0.0000e+00j  0.0000 +0.0000e+00j\n",
      " -0.2887 -5.0000e-01j  0.5774 +0.0000e+00j  0.5774 +1.6948e-32j] are not orthonormal\n",
      "basis [ 0.0000 +0.0000e+00j  0.0000 +0.0000e+00j  0.0000 +0.0000e+00j\n",
      "  0.0000 +0.0000e+00j  0.0000 +0.0000e+00j  0.0000 +0.0000e+00j\n",
      " -0.2887 -5.0000e-01j  0.5774 +0.0000e+00j  0.5774 +1.6948e-32j] and [ 0.0000 +0.0000e+00j  0.0000 +0.0000e+00j  0.0000 +0.0000e+00j\n",
      "  0.0000 +0.0000e+00j  0.0000 +0.0000e+00j  0.0000 +0.0000e+00j\n",
      " -0.2887 -5.0000e-01j  0.5774 +0.0000e+00j  0.5774 +1.6948e-32j] are not orthonormal\n",
      "All 59 vector cobinations are orthonormal\n"
     ]
    },
    {
     "name": "stderr",
     "output_type": "stream",
     "text": [
      "/usr/local/lib/python2.7/dist-packages/ipykernel_launcher.py:34: ComplexWarning: Casting complex values to real discards the imaginary part\n"
     ]
    }
   ],
   "source": [
    "d = 3\n",
    "a = 1\n",
    "b = 1\n",
    "\n",
    "#get X and Z\n",
    "X, Z = define_matrices_X_Z(d)\n",
    "#get M\n",
    "M = define_M (X, Z, a, b)\n",
    "#check the bases of M\n",
    "check_basis(M)"
   ]
  },
  {
   "cell_type": "code",
   "execution_count": 9,
   "metadata": {},
   "outputs": [
    {
     "data": {
      "text/plain": [
       "array([[ -2.8868e-01 -5.0000e-01j,  -2.8868e-01 +5.0000e-01j,\n",
       "          5.7735e-01 +0.0000e+00j,   0.0000e+00 +0.0000e+00j,\n",
       "          0.0000e+00 +0.0000e+00j,   0.0000e+00 +0.0000e+00j,\n",
       "          0.0000e+00 -0.0000e+00j,  -0.0000e+00 +0.0000e+00j,\n",
       "          0.0000e+00 +0.0000e+00j],\n",
       "       [  0.0000e+00 +0.0000e+00j,   0.0000e+00 +0.0000e+00j,\n",
       "          0.0000e+00 +0.0000e+00j,  -2.8868e-01 -5.0000e-01j,\n",
       "          5.7735e-01 +0.0000e+00j,   5.7735e-01 +0.0000e+00j,\n",
       "         -1.3468e-17 -2.3327e-17j,   2.6935e-17 -6.1630e-33j,\n",
       "          2.6935e-17 +3.5437e-32j],\n",
       "       [  0.0000e+00 +0.0000e+00j,   0.0000e+00 +0.0000e+00j,\n",
       "          0.0000e+00 +0.0000e+00j,   0.0000e+00 +0.0000e+00j,\n",
       "          0.0000e+00 +0.0000e+00j,   0.0000e+00 +0.0000e+00j,\n",
       "         -2.8868e-01 +5.0000e-01j,  -2.8868e-01 +5.0000e-01j,\n",
       "          5.7735e-01 +0.0000e+00j],\n",
       "       [ -2.8868e-01 +5.0000e-01j,  -2.8868e-01 -5.0000e-01j,\n",
       "          5.7735e-01 +4.3141e-32j,   0.0000e+00 +0.0000e+00j,\n",
       "          0.0000e+00 +0.0000e+00j,   0.0000e+00 +0.0000e+00j,\n",
       "          0.0000e+00 -0.0000e+00j,  -0.0000e+00 +0.0000e+00j,\n",
       "          0.0000e+00 +0.0000e+00j],\n",
       "       [  0.0000e+00 +0.0000e+00j,   0.0000e+00 +0.0000e+00j,\n",
       "          0.0000e+00 +0.0000e+00j,  -2.8868e-01 +5.0000e-01j,\n",
       "          5.7735e-01 -1.6653e-16j,  -2.8868e-01 +5.0000e-01j,\n",
       "         -3.3658e-17 +5.8297e-17j,  -3.3658e-17 +5.8297e-17j,\n",
       "          6.7316e-17 +3.0815e-32j],\n",
       "       [  0.0000e+00 +0.0000e+00j,   0.0000e+00 +0.0000e+00j,\n",
       "          0.0000e+00 +0.0000e+00j,   0.0000e+00 +0.0000e+00j,\n",
       "          0.0000e+00 +0.0000e+00j,   0.0000e+00 +0.0000e+00j,\n",
       "          5.7735e-01 +0.0000e+00j,  -2.8868e-01 -5.0000e-01j,\n",
       "          5.7735e-01 +1.5407e-33j],\n",
       "       [  5.7735e-01 +0.0000e+00j,   5.7735e-01 +0.0000e+00j,\n",
       "          5.7735e-01 -3.0815e-33j,   0.0000e+00 +0.0000e+00j,\n",
       "          0.0000e+00 +0.0000e+00j,   0.0000e+00 +0.0000e+00j,\n",
       "          0.0000e+00 -0.0000e+00j,  -0.0000e+00 +0.0000e+00j,\n",
       "          0.0000e+00 +0.0000e+00j],\n",
       "       [  0.0000e+00 +0.0000e+00j,   0.0000e+00 +0.0000e+00j,\n",
       "          0.0000e+00 +0.0000e+00j,   5.7735e-01 +0.0000e+00j,\n",
       "          5.7735e-01 +5.5511e-17j,  -2.8868e-01 -5.0000e-01j,\n",
       "          4.0036e-17 +6.1630e-33j,  -2.0018e-17 -3.4672e-17j,\n",
       "          4.0036e-17 +1.8489e-32j],\n",
       "       [  0.0000e+00 +0.0000e+00j,   0.0000e+00 +0.0000e+00j,\n",
       "          0.0000e+00 +0.0000e+00j,   0.0000e+00 +0.0000e+00j,\n",
       "          0.0000e+00 +0.0000e+00j,   0.0000e+00 +0.0000e+00j,\n",
       "         -2.8868e-01 -5.0000e-01j,   5.7735e-01 +0.0000e+00j,\n",
       "          5.7735e-01 +1.6948e-32j]])"
      ]
     },
     "execution_count": 9,
     "metadata": {},
     "output_type": "execute_result"
    }
   ],
   "source": [
    "eigenvalues, eigenvectors = la.eig(M)\n",
    "eigenvectors"
   ]
  },
  {
   "cell_type": "code",
   "execution_count": 17,
   "metadata": {},
   "outputs": [
    {
     "data": {
      "text/plain": [
       "(-0-0.59999999999999998j)"
      ]
     },
     "execution_count": 17,
     "metadata": {},
     "output_type": "execute_result"
    }
   ],
   "source": [
    "np.around(np.inner(eigenvectors[4], eigenvectors[4]), decimals = 1)"
   ]
  },
  {
   "cell_type": "code",
   "execution_count": 26,
   "metadata": {},
   "outputs": [
    {
     "name": "stdout",
     "output_type": "stream",
     "text": [
      "0.0\n",
      "0.0\n",
      "1.0\n",
      "0.0\n",
      "0.0\n",
      "0.0\n",
      "0.0\n",
      "0.0\n",
      "0.0\n",
      "0.3\n",
      "0.0\n",
      "0.0\n",
      "0.3\n",
      "0.0\n",
      "0.0\n",
      "0.3\n",
      "0.0\n",
      "0.0\n",
      "0.0\n",
      "0.0\n",
      "0.0\n",
      "0.0\n",
      "0.0\n",
      "0.0\n",
      "0.3\n",
      "0.0\n",
      "0.0\n",
      "0.0\n"
     ]
    }
   ],
   "source": [
    "for i in range (len(eigenvectors)-1):\n",
    "    for j in range (i+1, len(eigenvectors)-1):\n",
    "        print np.around(np.square(la.norm(np.matmul(eigenvectors[i], eigenvectors[j]))), decimals=1)"
   ]
  },
  {
   "cell_type": "code",
   "execution_count": null,
   "metadata": {},
   "outputs": [],
   "source": [
    "[ 0.0000+0.j   0.0000-0.j   0.0000+0.j  -0.2887-0.5j -0.2887+0.5j\n",
    " \n",
    "[ 0.0000+0.j   0.0000-0.j   0.0000+0.j  -0.2887-0.5j -0.2887+0.5j\n",
    " -0.5774+0.j  -0.0000+0.j  -0.0000-0.j   0.0000+0.j ]\n",
    " -0.5774+0.j  -0.0000+0.j  -0.0000-0.j   0.0000+0.j ] "
   ]
  }
 ],
 "metadata": {
  "kernelspec": {
   "display_name": "Python 2",
   "language": "python",
   "name": "python2"
  },
  "language_info": {
   "codemirror_mode": {
    "name": "ipython",
    "version": 2
   },
   "file_extension": ".py",
   "mimetype": "text/x-python",
   "name": "python",
   "nbconvert_exporter": "python",
   "pygments_lexer": "ipython2",
   "version": "2.7.12"
  }
 },
 "nbformat": 4,
 "nbformat_minor": 2
}
