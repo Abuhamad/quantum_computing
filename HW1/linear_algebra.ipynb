{
 "cells": [
  {
   "cell_type": "code",
   "execution_count": 43,
   "metadata": {},
   "outputs": [],
   "source": [
    "import numpy as np\n",
    "import numpy.linalg as la"
   ]
  },
  {
   "cell_type": "code",
   "execution_count": 80,
   "metadata": {},
   "outputs": [],
   "source": [
    "# pauli operators\n",
    "sigma_x = np.array([[0, 1],[1, 0]])\n",
    "sigma_y = np.array([[0, -1j],[1j, 0]])\n",
    "sigma_z = np.array([[1, 0],[0, -1]])\n",
    "\n",
    "#for these pauli matrices eigenvectors are eginbases\n",
    "def get_bases(matrix):\n",
    "    eigenvalues, eigenvectors = la.eig(matrix)\n",
    "    return eigenvectors\n",
    "\n",
    "def is_MUB (eigenbasis1, eigenbasis2):\n",
    "    return np.around(np.square(la.norm(np.matmul(eigenbasis1, eigenbasis2))), decimals=1) == 1.0/len(eigenbasis1)\n",
    "\n",
    "def check_bases_two_matrices (matrix1, matrix2):\n",
    "    bases1 = get_bases(matrix1)\n",
    "    bases2 = get_bases(matrix2)\n",
    "    for basis1 in bases1:\n",
    "        for basis2 in bases2:\n",
    "            print( \"Are the basis {} and basis {} mutually unbiased :> {}\\n\".format(basis1, basis2, is_MUB(basis1, basis2)))\n"
   ]
  },
  {
   "cell_type": "code",
   "execution_count": 81,
   "metadata": {},
   "outputs": [
    {
     "name": "stdout",
     "output_type": "stream",
     "text": [
      "Are the basis [ 0.70710678 -0.70710678] and basis [-0.00000000-0.70710678j  0.70710678+0.j        ] mutually unbiased :> True\n",
      "\n",
      "Are the basis [ 0.70710678 -0.70710678] and basis [ 0.70710678+0.j          0.00000000-0.70710678j] mutually unbiased :> True\n",
      "\n",
      "Are the basis [ 0.70710678  0.70710678] and basis [-0.00000000-0.70710678j  0.70710678+0.j        ] mutually unbiased :> True\n",
      "\n",
      "Are the basis [ 0.70710678  0.70710678] and basis [ 0.70710678+0.j          0.00000000-0.70710678j] mutually unbiased :> True\n",
      "\n",
      "Are the basis [ 0.70710678 -0.70710678] and basis [ 1.  0.] mutually unbiased :> True\n",
      "\n",
      "Are the basis [ 0.70710678 -0.70710678] and basis [ 0.  1.] mutually unbiased :> True\n",
      "\n",
      "Are the basis [ 0.70710678  0.70710678] and basis [ 1.  0.] mutually unbiased :> True\n",
      "\n",
      "Are the basis [ 0.70710678  0.70710678] and basis [ 0.  1.] mutually unbiased :> True\n",
      "\n",
      "Are the basis [-0.00000000-0.70710678j  0.70710678+0.j        ] and basis [ 1.  0.] mutually unbiased :> True\n",
      "\n",
      "Are the basis [-0.00000000-0.70710678j  0.70710678+0.j        ] and basis [ 0.  1.] mutually unbiased :> True\n",
      "\n",
      "Are the basis [ 0.70710678+0.j          0.00000000-0.70710678j] and basis [ 1.  0.] mutually unbiased :> True\n",
      "\n",
      "Are the basis [ 0.70710678+0.j          0.00000000-0.70710678j] and basis [ 0.  1.] mutually unbiased :> True\n",
      "\n"
     ]
    }
   ],
   "source": [
    "check_bases_two_matrices(sigma_x, sigma_y)\n",
    "check_bases_two_matrices(sigma_x, sigma_z)\n",
    "check_bases_two_matrices(sigma_y, sigma_z)"
   ]
  },
  {
   "cell_type": "code",
   "execution_count": null,
   "metadata": {},
   "outputs": [],
   "source": []
  },
  {
   "cell_type": "code",
   "execution_count": null,
   "metadata": {},
   "outputs": [],
   "source": []
  },
  {
   "cell_type": "code",
   "execution_count": null,
   "metadata": {},
   "outputs": [],
   "source": []
  }
 ],
 "metadata": {
  "kernelspec": {
   "display_name": "Python 2",
   "language": "python",
   "name": "python2"
  },
  "language_info": {
   "codemirror_mode": {
    "name": "ipython",
    "version": 2
   },
   "file_extension": ".py",
   "mimetype": "text/x-python",
   "name": "python",
   "nbconvert_exporter": "python",
   "pygments_lexer": "ipython2",
   "version": "2.7.12"
  }
 },
 "nbformat": 4,
 "nbformat_minor": 2
}
