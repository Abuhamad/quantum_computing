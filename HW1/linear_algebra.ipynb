{
 "cells": [
  {
   "cell_type": "code",
   "execution_count": 1,
   "metadata": {},
   "outputs": [],
   "source": [
    "import numpy as np\n",
    "import numpy.linalg as la"
   ]
  },
  {
   "cell_type": "code",
   "execution_count": 2,
   "metadata": {},
   "outputs": [],
   "source": [
    "# pauli operators\n",
    "sigma_x = np.array([[0, 1],[1, 0]])\n",
    "sigma_y = np.array([[0, -1j],[1j, 0]])\n",
    "sigma_z = np.array([[1, 0],[0, -1]])\n",
    "\n",
    "#for these pauli matrices eigenvectors are eginbases\n",
    "def get_bases(matrix):\n",
    "    eigenvalues, eigenvectors = la.eig(matrix)\n",
    "    return eigenvectors\n",
    "\n",
    "def is_MUB (eigenbasis1, eigenbasis2):\n",
    "    return np.around(np.square(la.norm(np.matmul(eigenbasis1, eigenbasis2))), decimals=1) == 1.0/len(eigenbasis1)\n",
    "\n",
    "def check_bases_two_matrices (matrix1, matrix2):\n",
    "    bases1 = get_bases(matrix1)\n",
    "    bases2 = get_bases(matrix2)\n",
    "    for basis1 in bases1:\n",
    "        for basis2 in bases2:\n",
    "            print( \"Are the basis {} and basis {} mutually unbiased :> {}\\n\".format(basis1, basis2, is_MUB(basis1, basis2)))\n"
   ]
  },
  {
   "cell_type": "code",
   "execution_count": 3,
   "metadata": {},
   "outputs": [
    {
     "name": "stdout",
     "output_type": "stream",
     "text": [
      "Are the basis [ 0.70710678 -0.70710678] and basis [-0.00000000-0.70710678j  0.70710678+0.j        ] mutually unbiased :> True\n",
      "\n",
      "Are the basis [ 0.70710678 -0.70710678] and basis [ 0.70710678+0.j          0.00000000-0.70710678j] mutually unbiased :> True\n",
      "\n",
      "Are the basis [ 0.70710678  0.70710678] and basis [-0.00000000-0.70710678j  0.70710678+0.j        ] mutually unbiased :> True\n",
      "\n",
      "Are the basis [ 0.70710678  0.70710678] and basis [ 0.70710678+0.j          0.00000000-0.70710678j] mutually unbiased :> True\n",
      "\n",
      "Are the basis [ 0.70710678 -0.70710678] and basis [ 1.  0.] mutually unbiased :> True\n",
      "\n",
      "Are the basis [ 0.70710678 -0.70710678] and basis [ 0.  1.] mutually unbiased :> True\n",
      "\n",
      "Are the basis [ 0.70710678  0.70710678] and basis [ 1.  0.] mutually unbiased :> True\n",
      "\n",
      "Are the basis [ 0.70710678  0.70710678] and basis [ 0.  1.] mutually unbiased :> True\n",
      "\n",
      "Are the basis [-0.00000000-0.70710678j  0.70710678+0.j        ] and basis [ 1.  0.] mutually unbiased :> True\n",
      "\n",
      "Are the basis [-0.00000000-0.70710678j  0.70710678+0.j        ] and basis [ 0.  1.] mutually unbiased :> True\n",
      "\n",
      "Are the basis [ 0.70710678+0.j          0.00000000-0.70710678j] and basis [ 1.  0.] mutually unbiased :> True\n",
      "\n",
      "Are the basis [ 0.70710678+0.j          0.00000000-0.70710678j] and basis [ 0.  1.] mutually unbiased :> True\n",
      "\n"
     ]
    }
   ],
   "source": [
    "check_bases_two_matrices(sigma_x, sigma_y)\n",
    "check_bases_two_matrices(sigma_x, sigma_z)\n",
    "check_bases_two_matrices(sigma_y, sigma_z)"
   ]
  },
  {
   "cell_type": "code",
   "execution_count": 47,
   "metadata": {},
   "outputs": [
    {
     "data": {
      "text/plain": [
       "(array([ 0.,  1.]), array([ 1.,  0.]))"
      ]
     },
     "execution_count": 47,
     "metadata": {},
     "output_type": "execute_result"
    }
   ],
   "source": [
    "k=2\n",
    "x1 = np.zeros(k)\n",
    "x2 = np.zeros(k)\n",
    "x1[k-1]=1\n",
    "x2[((k-1)+1)%k]=1\n",
    "x1, x2\n",
    "\n"
   ]
  },
  {
   "cell_type": "code",
   "execution_count": 48,
   "metadata": {},
   "outputs": [
    {
     "data": {
      "text/plain": [
       "array([[ 0.,  1.],\n",
       "       [ 0.,  0.]])"
      ]
     },
     "execution_count": 48,
     "metadata": {},
     "output_type": "execute_result"
    }
   ],
   "source": [
    "X = np.outer(x2.T, x1)\n",
    "X"
   ]
  },
  {
   "cell_type": "code",
   "execution_count": 49,
   "metadata": {},
   "outputs": [
    {
     "data": {
      "text/plain": [
       "(-0.28369109148652732+0.95891572341430653j)"
      ]
     },
     "execution_count": 49,
     "metadata": {},
     "output_type": "execute_result"
    }
   ],
   "source": [
    "d = k-1\n",
    "w = np.exp((2*180j)/d)\n",
    "w"
   ]
  },
  {
   "cell_type": "code",
   "execution_count": 50,
   "metadata": {},
   "outputs": [
    {
     "data": {
      "text/plain": [
       "array([[-0.28369109+0.95891572j]])"
      ]
     },
     "execution_count": 50,
     "metadata": {},
     "output_type": "execute_result"
    }
   ],
   "source": [
    "y1 = np.zeros(d)\n",
    "y2 = np.zeros(d)\n",
    "y1[d-1]=1\n",
    "y2[d-1]=1\n",
    "Z = np.outer(y2.T, y1)*w\n",
    "Z"
   ]
  },
  {
   "cell_type": "code",
   "execution_count": 57,
   "metadata": {},
   "outputs": [
    {
     "data": {
      "text/plain": [
       "(array([[-0.00000000+0.j        ],\n",
       "        [-0.28369109+0.95891572j],\n",
       "        [-0.00000000+0.j        ],\n",
       "        [-0.00000000+0.j        ]]), (4, 1))"
      ]
     },
     "execution_count": 57,
     "metadata": {},
     "output_type": "execute_result"
    }
   ],
   "source": [
    "M = np.outer(X, Z)\n",
    "M, M.shape"
   ]
  },
  {
   "cell_type": "code",
   "execution_count": 58,
   "metadata": {},
   "outputs": [],
   "source": [
    "a = np.zeros((2,2))"
   ]
  },
  {
   "cell_type": "code",
   "execution_count": 65,
   "metadata": {},
   "outputs": [
    {
     "ename": "ValueError",
     "evalue": "axis1 and axis2 cannot be the same",
     "output_type": "error",
     "traceback": [
      "\u001b[0;31m---------------------------------------------------------------------------\u001b[0m",
      "\u001b[0;31mValueError\u001b[0m                                Traceback (most recent call last)",
      "\u001b[0;32m<ipython-input-65-889ab04d08cb>\u001b[0m in \u001b[0;36m<module>\u001b[0;34m()\u001b[0m\n\u001b[0;32m----> 1\u001b[0;31m \u001b[0ma\u001b[0m\u001b[0;34m.\u001b[0m\u001b[0mdiagonal\u001b[0m\u001b[0;34m(\u001b[0m\u001b[0;36m1\u001b[0m\u001b[0;34m,\u001b[0m\u001b[0;36m1\u001b[0m\u001b[0;34m)\u001b[0m\u001b[0;34m\u001b[0m\u001b[0m\n\u001b[0m",
      "\u001b[0;31mValueError\u001b[0m: axis1 and axis2 cannot be the same"
     ]
    }
   ],
   "source": [
    "a.diagonal(1,1)"
   ]
  },
  {
   "cell_type": "code",
   "execution_count": 79,
   "metadata": {},
   "outputs": [
    {
     "data": {
      "text/plain": [
       "array([[ 0.,  0.,  0.],\n",
       "       [ 0.,  1.,  0.],\n",
       "       [ 0.,  0.,  1.]])"
      ]
     },
     "execution_count": 79,
     "metadata": {},
     "output_type": "execute_result"
    }
   ],
   "source": [
    "d = 3\n",
    "X = np.zeros((d, d))\n",
    "\n",
    "for idx in range (1, d):\n",
    "    for jdx in range (d):\n",
    "        if idx == jdx:\n",
    "            X[idx][jdx] = 1\n",
    "\n",
    "\n",
    "X"
   ]
  },
  {
   "cell_type": "code",
   "execution_count": 81,
   "metadata": {},
   "outputs": [
    {
     "data": {
      "text/plain": [
       "array([[ 1.00000000+0.j        ,  0.00000000+0.j        ,  0.00000000+0.j        ],\n",
       "       [ 0.00000000+0.j        ,  0.81418097+0.58061118j,  0.00000000+0.j        ],\n",
       "       [ 0.00000000+0.j        ,  0.00000000+0.j        ,  0.00000000+0.j        ]])"
      ]
     },
     "execution_count": 81,
     "metadata": {},
     "output_type": "execute_result"
    }
   ],
   "source": [
    "w = np.exp((2*180j)/d)\n",
    "Z = np.zeros((d, d), dtype=complex)\n",
    "\n",
    "for idx in range (d-1):\n",
    "    for jdx in range (d):\n",
    "        if idx == jdx:\n",
    "            Z[idx][jdx] = w**idx\n",
    "Z"
   ]
  },
  {
   "cell_type": "code",
   "execution_count": 82,
   "metadata": {},
   "outputs": [
    {
     "data": {
      "text/plain": [
       "array([[ 0.00000000+0.j        ,  0.00000000+0.j        ,  0.00000000+0.j        ],\n",
       "       [ 0.00000000+0.j        ,  0.81418097+0.58061118j,  0.00000000+0.j        ],\n",
       "       [ 0.00000000+0.j        ,  0.00000000+0.j        ,  0.00000000+0.j        ]])"
      ]
     },
     "execution_count": 82,
     "metadata": {},
     "output_type": "execute_result"
    }
   ],
   "source": [
    "M = np.dot(X,Z)\n",
    "M"
   ]
  },
  {
   "cell_type": "code",
   "execution_count": null,
   "metadata": {},
   "outputs": [],
   "source": []
  },
  {
   "cell_type": "code",
   "execution_count": null,
   "metadata": {},
   "outputs": [],
   "source": []
  },
  {
   "cell_type": "code",
   "execution_count": null,
   "metadata": {},
   "outputs": [],
   "source": []
  },
  {
   "cell_type": "code",
   "execution_count": null,
   "metadata": {},
   "outputs": [],
   "source": []
  }
 ],
 "metadata": {
  "kernelspec": {
   "display_name": "Python 2",
   "language": "python",
   "name": "python2"
  },
  "language_info": {
   "codemirror_mode": {
    "name": "ipython",
    "version": 2
   },
   "file_extension": ".py",
   "mimetype": "text/x-python",
   "name": "python",
   "nbconvert_exporter": "python",
   "pygments_lexer": "ipython2",
   "version": "2.7.12"
  }
 },
 "nbformat": 4,
 "nbformat_minor": 2
}
