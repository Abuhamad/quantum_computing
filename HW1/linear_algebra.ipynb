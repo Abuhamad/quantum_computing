{
 "cells": [
  {
   "cell_type": "code",
   "execution_count": 2,
   "metadata": {},
   "outputs": [],
   "source": [
    "from numpy import *\n",
    "import numpy.linalg as la"
   ]
  },
  {
   "cell_type": "code",
   "execution_count": 3,
   "metadata": {},
   "outputs": [],
   "source": [
    "# pauli spin\n",
    "\n",
    "sx = array([[0, 1],[ 1, 0]])\n",
    "sy = array([[0, -1j],[1j, 0]])\n",
    "sz = array([[1, 0],[0, -1]])\n",
    "\n",
    "# sigma functions\n",
    "\n",
    "sigma_x = array([[0, 1],[1, 0]])\n",
    "sigma_y = array([[0, -1j],[1j, 0]])\n",
    "sigma_z = array([[1, 0],[0, -1]])\n",
    "\n",
    "# standard basis\n",
    "\n",
    "spin_up = array([[1],[0]])\n",
    "spin_down = array([[0],[1]])\n",
    "\n",
    "# spin ladder operators\n",
    "\n",
    "sigma_one_plus = sigma_x + 1j * sigma_y\n",
    "sigma_two_plus = sigma_x + 1j * sigma_y"
   ]
  },
  {
   "cell_type": "code",
   "execution_count": 20,
   "metadata": {},
   "outputs": [
    {
     "data": {
      "text/plain": [
       "2.0000000000000004"
      ]
     },
     "execution_count": 20,
     "metadata": {},
     "output_type": "execute_result"
    }
   ],
   "source": [
    "#matmul(sigma_x[:,0],sigma_x[:,0])\n",
    "la.norm(sigma_x)*la.norm(sigma_x)"
   ]
  },
  {
   "cell_type": "code",
   "execution_count": 4,
   "metadata": {},
   "outputs": [
    {
     "name": "stdout",
     "output_type": "stream",
     "text": [
      "example 1\n",
      "=========\n",
      "s_{z} |+1/2, +1/2> = frac{hbar}{2} ( sigma_{1z} tensor 1_{2} + 1_{1} tensor sigma_{2z} ) |+1/2, +1/2>\n",
      "[[ 1.]\n",
      " [ 0.]\n",
      " [ 0.]\n",
      " [ 0.]]\n"
     ]
    }
   ],
   "source": [
    "print 'example 1\\n========='\n",
    "print 's_{z} |+1/2, +1/2> = frac{hbar}{2} ( sigma_{1z} tensor 1_{2} + 1_{1} tensor sigma_{2z} ) |+1/2, +1/2>'\n",
    "print mat(kron(sigma_z, identity(2))) * mat(kron(spin_up, spin_up))\n"
   ]
  },
  {
   "cell_type": "code",
   "execution_count": 5,
   "metadata": {},
   "outputs": [
    {
     "name": "stdout",
     "output_type": "stream",
     "text": [
      "example 2\n",
      "=========\n",
      "s_{+} |-1/2, -1/2>\n",
      "[[ 0.+0.j]\n",
      " [ 1.+0.j]\n",
      " [ 1.+0.j]\n",
      " [ 0.+0.j]]\n"
     ]
    }
   ],
   "source": [
    "print 'example 2\\n========='\n",
    "print 's_{+} |-1/2, -1/2>'\n",
    "print (mat(kron(sigma_one_plus, identity(2))) * mat(kron(spin_down, spin_down)) + mat(kron(identity(2), sigma_one_plus)) * mat(kron(spin_down, spin_down))) / 2\n"
   ]
  },
  {
   "cell_type": "code",
   "execution_count": 6,
   "metadata": {},
   "outputs": [
    {
     "name": "stdout",
     "output_type": "stream",
     "text": [
      "example 3\n",
      "=========\n",
      "s_{+} |+1/2, -1/2>\n",
      "[[ 1.+0.j]\n",
      " [ 0.+0.j]\n",
      " [ 0.+0.j]\n",
      " [ 0.+0.j]]\n"
     ]
    }
   ],
   "source": [
    "print 'example 3\\n========='\n",
    "print 's_{+} |+1/2, -1/2>'\n",
    "print (mat(kron(sigma_one_plus, identity(2))) * mat(kron(spin_up, spin_down)) + mat(kron(identity(2), sigma_one_plus)) * mat(kron(spin_up, spin_down))) / 2\n"
   ]
  },
  {
   "cell_type": "code",
   "execution_count": 7,
   "metadata": {},
   "outputs": [
    {
     "name": "stdout",
     "output_type": "stream",
     "text": [
      "example 4\n",
      "=========\n",
      "s_{+} |-1/2, +1/2>\n",
      "[[ 1.+0.j]\n",
      " [ 0.+0.j]\n",
      " [ 0.+0.j]\n",
      " [ 0.+0.j]]\n"
     ]
    }
   ],
   "source": [
    "print 'example 4\\n========='\n",
    "print 's_{+} |-1/2, +1/2>'\n",
    "print (mat(kron(sigma_one_plus, identity(2))) * mat(kron(spin_down, spin_up)) + mat(kron(identity(2), sigma_one_plus)) * mat(kron(spin_down, spin_up))) / 2\n"
   ]
  }
 ],
 "metadata": {
  "kernelspec": {
   "display_name": "Python 2",
   "language": "python",
   "name": "python2"
  },
  "language_info": {
   "codemirror_mode": {
    "name": "ipython",
    "version": 2
   },
   "file_extension": ".py",
   "mimetype": "text/x-python",
   "name": "python",
   "nbconvert_exporter": "python",
   "pygments_lexer": "ipython2",
   "version": "2.7.12"
  }
 },
 "nbformat": 4,
 "nbformat_minor": 2
}
